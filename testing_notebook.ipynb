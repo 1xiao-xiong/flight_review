{
 "cells": [
  {
   "cell_type": "code",
   "execution_count": null,
   "metadata": {
    "collapsed": false
   },
   "outputs": [],
   "source": [
    "# setup\n",
    "from bokeh.plotting import figure, show, output_notebook\n",
    "from bokeh.models import (\n",
    "    ColumnDataSource, Range1d, DataRange1d, DatetimeAxis,\n",
    "    TickFormatter, DatetimeTickFormatter, FuncTickFormatter,\n",
    "    Grid, Legend, Plot, BoxAnnotation, Span, CustomJS, Rect, Circle, Line,\n",
    "    HoverTool, BoxZoomTool, PanTool, WheelZoomTool,\n",
    "    WMTSTileSource, LabelSet\n",
    "    )\n",
    "from bokeh.models.widgets import DataTable, DateFormatter, TableColumn, Div\n",
    "\n",
    "import numpy as np\n",
    "import sys\n",
    "import os\n",
    "\n",
    "sys.path.append(os.path.join(os.getcwd(), 'plot_app'))\n",
    "from pyulog import *\n",
    "from pyulog.px4 import *\n",
    "from plotting import *\n",
    "from config import *\n",
    "from notebook_helper import *\n",
    "\n",
    "output_notebook()"
   ]
  },
  {
   "cell_type": "code",
   "execution_count": null,
   "metadata": {
    "collapsed": false
   },
   "outputs": [],
   "source": [
    "file_name = '' # TODO: fill in file name\n",
    "ulog = ULog(file_name)\n",
    "data = ulog.data_list\n",
    "px4_ulog = PX4ULog(ulog)\n",
    "px4_ulog.add_roll_pitch_yaw()\n",
    "use_downsample = False\n",
    "\n",
    "print(\"message names: {:}\".format(sorted([d.name for d in data])))\n",
    "print_ulog_info(ulog)"
   ]
  },
  {
   "cell_type": "code",
   "execution_count": null,
   "metadata": {
    "collapsed": true
   },
   "outputs": [],
   "source": [
    "use_downsample = True # you may want to activate this for large logs (But you will not see all samples when zooming in)"
   ]
  },
  {
   "cell_type": "code",
   "execution_count": null,
   "metadata": {
    "collapsed": false
   },
   "outputs": [],
   "source": [
    "# load a dataset to inspect the field names and types\n",
    "sensor_data = [ elem for elem in data if elem.name == 'vehicle_local_position' and elem.multi_id == 0][0]\n",
    "types_list = [(f.type_str, f.field_name) for f in sensor_data.field_data]\n",
    "for ftype, fname in types_list: print(\"{:10s} {:}\".format(ftype, fname))"
   ]
  },
  {
   "cell_type": "code",
   "execution_count": null,
   "metadata": {
    "collapsed": false
   },
   "outputs": [],
   "source": [
    "plot = plot_map(data, plot_config) # gps map\n",
    "if plot != None: show(plot)"
   ]
  },
  {
   "cell_type": "code",
   "execution_count": null,
   "metadata": {
    "collapsed": false
   },
   "outputs": [],
   "source": [
    "# plot raw acceleration sensor data\n",
    "data_plot = DataPlot(data, plot_config, 'sensor_combined',\n",
    "        y_axis_label = '[m/s^2]', title = 'Raw Acceleration', plot_height = 'normal')\n",
    "data_plot.add_graph(['accelerometer_m_s2[0]', 'accelerometer_m_s2[1]', 'accelerometer_m_s2[2]'],\n",
    "                    colors3, ['x', 'y', 'z'], use_downsample=use_downsample)\n",
    "show(data_plot.finalize())"
   ]
  },
  {
   "cell_type": "code",
   "execution_count": null,
   "metadata": {
    "collapsed": false
   },
   "outputs": [],
   "source": [
    "# a more complex plot with multiple datasets\n",
    "data_plot = DataPlot(data, plot_config, 'sensor_combined', y_start=0, title = 'Thrust and Magnetic Field',\n",
    "                     plot_height='normal')\n",
    "data_plot.add_graph([lambda data: ('len_mag', \n",
    "    np.sqrt(data['magnetometer_ga[0]']**2 + data['magnetometer_ga[1]']**2 + data['magnetometer_ga[2]']**2))],\n",
    "    colors2[0:1], ['Norm of Magnetic Field'], use_downsample=use_downsample)\n",
    "\n",
    "data_plot.change_dataset('actuator_controls')\n",
    "data_plot.add_graph([lambda data: ('thrust', data['control[3]'])], colors2[1:2], ['Thrust'],\n",
    "                    use_downsample=use_downsample)\n",
    "\n",
    "show(data_plot.finalize())"
   ]
  },
  {
   "cell_type": "code",
   "execution_count": null,
   "metadata": {
    "collapsed": false
   },
   "outputs": [],
   "source": [
    "# plot low-pass filtered raw acceleration sensor data\n",
    "from scipy.signal import butter, lfilter\n",
    "cur_data = ulog.get_dataset('sensor_combined').data\n",
    "t = cur_data['timestamp']\n",
    "\n",
    "fs = len(t) / ((t[-1]-t[0])/1e6) # sample rate [Hz]\n",
    "cutoff = 10 # cutoff freq [Hz]\n",
    "order = 5\n",
    "B, A = butter(order, cutoff / (fs / 2), btype='low') # Butterworth low-pass\n",
    "filtered_signal = lfilter(B, A, cur_data['accelerometer_m_s2[0]'])\n",
    "\n",
    "p = figure(plot_width = 800, active_scroll='wheel_zoom')\n",
    "p.line(t, cur_data['accelerometer_m_s2[0]'], color='red', alpha = 0.5)\n",
    "p.line(t, filtered_signal, color='blue', alpha = 0.8)\n",
    "show(p)"
   ]
  },
  {
   "cell_type": "code",
   "execution_count": null,
   "metadata": {
    "collapsed": true
   },
   "outputs": [],
   "source": []
  }
 ],
 "metadata": {
  "kernelspec": {
   "display_name": "Python 3",
   "language": "python",
   "name": "python3"
  },
  "language_info": {
   "codemirror_mode": {
    "name": "ipython",
    "version": 3
   },
   "file_extension": ".py",
   "mimetype": "text/x-python",
   "name": "python",
   "nbconvert_exporter": "python",
   "pygments_lexer": "ipython3",
   "version": "3.5.2"
  }
 },
 "nbformat": 4,
 "nbformat_minor": 0
}
